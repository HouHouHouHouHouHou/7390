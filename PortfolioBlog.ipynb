{
 "cells": [
  {
   "cell_type": "markdown",
   "metadata": {},
   "source": [
    "# Portfolio Blog"
   ]
  },
  {
   "cell_type": "markdown",
   "metadata": {},
   "source": [
    "# Traditional Chinese Calligraphy Recognition Using CNN\n",
    "This is the portfolio blog for INFO 7390 Spring instructed by Prof. Nik Brown.<br>By Houze Liu: [liu.hou@husky.neu.edu](mailto:liu.hou@husky.neu.edu) / <a href=\"https://github.com/HouHouHouHouHouHou\">github</a>"
   ]
  },
  {
   "cell_type": "markdown",
   "metadata": {},
   "source": [
    "## Introduction\n",
    "This blog is about to recognize 40 different Traditional Chinese Characters(TCC) using Convolutional Neural Network(CNN)."
   ]
  },
  {
   "cell_type": "markdown",
   "metadata": {},
   "source": [
    "In this blog, we will implement different CNN on our dataset and evaluate their performance by accuracy on classification. The plateform we will use is PyTorch, which is easier to learn compared to TensorFlow."
   ]
  },
  {
   "cell_type": "markdown",
   "metadata": {},
   "source": [
    "Convolutional Neural Networks(CNN) work by moving small filters across an input image. One filter can be regarded as a reception. It acts like a sight neure which 'sees' one part of input image one time, and can get activated accordingly. This makes Convolutional Netwroks very powerful on capturing patterns, and thus can keep more complex information than simple multilayer perceptrons(MLP). The differenc between CNN and MLP is that CNN has convolution layers. Besides, MLP has the layers same with the CNN's rest layers (we call them fully connected layers, or FC layers in terms of CNN). "
   ]
  },
  {
   "cell_type": "markdown",
   "metadata": {},
   "source": [
    "![Convolution Layer1](images/image3.jpeg)\n",
    "![Convolution Layer2](images/image2.jpeg)\n",
    "The numer of filters we use to convolve the input image euqals the number of 'stacks' of the output activation maps. That gave us a new input with more channels and usually smaller size. \n",
    "![Convolution Layer3](images/image1.jpeg)"
   ]
  },
  {
   "cell_type": "markdown",
   "metadata": {},
   "source": [
    "![](/images/image1)"
   ]
  },
  {
   "cell_type": "markdown",
   "metadata": {},
   "source": [
    "import content"
   ]
  },
  {
   "cell_type": "markdown",
   "metadata": {},
   "source": [
    "Load data"
   ]
  },
  {
   "cell_type": "markdown",
   "metadata": {},
   "source": [
    "pytorch"
   ]
  },
  {
   "cell_type": "markdown",
   "metadata": {},
   "source": [
    "performance"
   ]
  }
 ],
 "metadata": {
  "kernelspec": {
   "display_name": "Python 2",
   "language": "python",
   "name": "python2"
  },
  "language_info": {
   "codemirror_mode": {
    "name": "ipython",
    "version": 2
   },
   "file_extension": ".py",
   "mimetype": "text/x-python",
   "name": "python",
   "nbconvert_exporter": "python",
   "pygments_lexer": "ipython2",
   "version": "2.7.13"
  }
 },
 "nbformat": 4,
 "nbformat_minor": 2
}
