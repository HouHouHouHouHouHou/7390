{
 "cells": [
  {
   "cell_type": "markdown",
   "metadata": {},
   "source": [
    "# Experiments on model_l6_fc_1\n",
    "In this step of experiments, we start on model_l6_fc_1, which has 3 Conv layers and 3 FC layers, and its variations. For training we will use lr = 0.01 and momentum = 0.9"
   ]
  },
  {
   "cell_type": "code",
   "execution_count": 16,
   "metadata": {},
   "outputs": [],
   "source": [
    "import torch\n",
    "import torch.nn as nn\n",
    "from torch.autograd import Variable\n",
    "import torchvision.datasets as dset\n",
    "import torch.nn.functional as F\n",
    "import torch.optim as optim\n",
    "from torchvision import datasets, models, transforms\n",
    "import os\n",
    "import matplotlib.pyplot as plt \n",
    "import matplotlib.patches as mpatches\n",
    "import time"
   ]
  },
  {
   "cell_type": "code",
   "execution_count": 4,
   "metadata": {},
   "outputs": [],
   "source": [
    "batch_size = 100#batch_size will be used to get accuracy\n",
    "data_transforms = {\n",
    "    'train': transforms.Compose([\n",
    "        transforms.Resize(96),\n",
    "        transforms.CenterCrop(128),\n",
    "        transforms.Grayscale(),\n",
    "        transforms.ToTensor(),\n",
    "        transforms.Normalize([0.485, 0.456, 0.406], [0.229, 0.224, 0.225])\n",
    "    ]),\n",
    "    'test': transforms.Compose([\n",
    "        transforms.Resize(96),\n",
    "        transforms.CenterCrop(128),\n",
    "        transforms.Grayscale(),\n",
    "        transforms.ToTensor(),\n",
    "        transforms.Normalize([0.485, 0.456, 0.406], [0.229, 0.224, 0.225])\n",
    "    ]),\n",
    "    'validation': transforms.Compose([\n",
    "        transforms.Resize(96),\n",
    "        transforms.CenterCrop(128),\n",
    "        transforms.Grayscale(),\n",
    "        transforms.ToTensor(),\n",
    "        transforms.Normalize([0.485, 0.456, 0.406], [0.229, 0.224, 0.225])\n",
    "    ])\n",
    "}\n",
    "data_dir = '/input/data'\n",
    "image_datasets = {x: datasets.ImageFolder(os.path.join(data_dir, x),\n",
    "                                          data_transforms[x])\n",
    "                  for x in ['train','test','validation']}\n",
    "dataloaders = {x: torch.utils.data.DataLoader(image_datasets[x], batch_size=batch_size,\n",
    "                                             shuffle=True,num_workers=4)\n",
    "              for x in ['train','test','validation']}"
   ]
  },
  {
   "cell_type": "code",
   "execution_count": 19,
   "metadata": {},
   "outputs": [],
   "source": [
    "class ConvNet_L6(nn.Module):#this model is same as model_l6_fc_1, we rename it as ConvNet_L6 to keep consistency with annotation on paper\n",
    "    def __init__(self):\n",
    "        super(ConvNet_L6, self).__init__()\n",
    "        self.all_losses = []\n",
    "        self.all_accuracy = []\n",
    "        self.conv1 = nn.Conv2d(1, 32, 3, 1, 1) \n",
    "        self.conv2 = nn.Conv2d(32, 64, 3, 1, 1)\n",
    "        self.conv3 = nn.Conv2d(64, 128, 3, 1, 1)\n",
    "        self.fc1 = nn.Linear(16*16*128,4000)#compared to model_l6 in the previous step, model_l6_fc_1 only changes FC layers\n",
    "        self.fc2 = nn.Linear(4000,1024)\n",
    "        self.fc3 = nn.Linear(1024, 100)\n",
    "\n",
    "    def forward(self, x):\n",
    "        x = x.view(-1,1,128,128)\n",
    "        x = F.max_pool2d(F.relu(self.conv1(x)), 2, 2)\n",
    "        x = F.max_pool2d(F.relu(self.conv2(x)), 2, 2)\n",
    "        x = F.max_pool2d(F.relu(self.conv3(x)), 2, 2)\n",
    "        x = x.view(-1, 16*16*128)\n",
    "        x = F.relu(self.fc1(x))\n",
    "        x = F.relu(self.fc2(x))\n",
    "        x = self.fc3(x)\n",
    "        return F.log_softmax(x, dim = 1)"
   ]
  },
  {
   "cell_type": "code",
   "execution_count": 20,
   "metadata": {},
   "outputs": [],
   "source": [
    "class ConvNet_L7(nn.Module):\n",
    "    def __init__(self):\n",
    "        super(ConvNet_L7, self).__init__()\n",
    "        self.all_losses = []\n",
    "        self.all_accuracy = []\n",
    "        self.conv1 = nn.Conv2d(1, 32, 3, 1, 1) \n",
    "        self.conv2 = nn.Conv2d(32, 64, 3, 1, 1)\n",
    "        self.conv3 = nn.Conv2d(64, 128, 3, 1, 1)\n",
    "        self.conv4 = nn.Conv2d(128, 256, 3, 1, 1)\n",
    "        self.fc1 = nn.Linear(8*8*256,4000)\n",
    "        self.fc2 = nn.Linear(4000,1024)\n",
    "        self.fc3 = nn.Linear(1024, 100)\n",
    "\n",
    "    def forward(self, x):\n",
    "        x = x.view(-1,1,128,128)\n",
    "        x = F.max_pool2d(F.relu(self.conv1(x)), 2, 2)\n",
    "        x = F.max_pool2d(F.relu(self.conv2(x)), 2, 2)\n",
    "        x = F.max_pool2d(F.relu(self.conv3(x)), 2, 2)\n",
    "        x = F.max_pool2d(F.relu(self.conv4(x)), 2, 2)\n",
    "        x = x.view(-1, 8*8*256)\n",
    "        x = F.relu(self.fc1(x))\n",
    "        x = F.relu(self.fc2(x))\n",
    "        x = self.fc3(x)\n",
    "        return F.log_softmax(x, dim = 1)"
   ]
  },
  {
   "cell_type": "code",
   "execution_count": 39,
   "metadata": {},
   "outputs": [],
   "source": [
    "class ConvNet_L7Plus(nn.Module):\n",
    "    def __init__(self):\n",
    "        super(ConvNet_L7Plus, self).__init__()\n",
    "        self.all_losses = []\n",
    "        self.all_accuracy = []\n",
    "        self.conv1 = nn.Conv2d(1, 64, 3, 1, 1) \n",
    "        self.conv2 = nn.Conv2d(64, 128, 3, 1, 1)\n",
    "        self.conv3 = nn.Conv2d(128, 256, 3, 1, 1)\n",
    "        self.conv4 = nn.Conv2d(256, 512, 3, 1, 1)\n",
    "        self.fc1 = nn.Linear(8*8*512,4000)\n",
    "        self.fc2 = nn.Linear(4000,1024)\n",
    "        self.fc3 = nn.Linear(1024, 100)\n",
    "\n",
    "    def forward(self, x):\n",
    "        x = x.view(-1,1,128,128)\n",
    "        x = F.max_pool2d(F.relu(self.conv1(x)), 2, 2)\n",
    "        x = F.max_pool2d(F.relu(self.conv2(x)), 2, 2)\n",
    "        x = F.max_pool2d(F.relu(self.conv3(x)), 2, 2)\n",
    "        x = F.max_pool2d(F.relu(self.conv4(x)), 2, 2)\n",
    "        x = x.view(-1, 8*8*512)\n",
    "        x = F.relu(self.fc1(x))\n",
    "        x = F.relu(self.fc2(x))\n",
    "        x = self.fc3(x)\n",
    "        return F.log_softmax(x, dim = 1)"
   ]
  },
  {
   "cell_type": "code",
   "execution_count": 47,
   "metadata": {},
   "outputs": [],
   "source": [
    "class ConvNet_L9(nn.Module):\n",
    "    def __init__(self):\n",
    "        super(ConvNet_L9, self).__init__()\n",
    "        self.all_losses = []\n",
    "        self.all_accuracy = []\n",
    "        self.conv1_1 = nn.Conv2d(1, 32, 3, 1, 1) \n",
    "        self.conv1_2 = nn.Conv2d(32, 32, 3, 1, 1)\n",
    "        self.conv2_1 = nn.Conv2d(32, 64, 3, 1, 1)\n",
    "        self.conv2_2 = nn.Conv2d(64, 64, 3, 1, 1)\n",
    "        self.conv3 = nn.Conv2d(64, 128, 3, 1, 1)\n",
    "        self.conv4 = nn.Conv2d(128, 256, 3, 1, 1)\n",
    "        self.fc1 = nn.Linear(8*8*256,4000)\n",
    "        self.fc2 = nn.Linear(4000,1024)\n",
    "        self.fc3 = nn.Linear(1024, 100)\n",
    "\n",
    "    def forward(self, x):\n",
    "        x = x.view(-1,1,128,128)\n",
    "        x = F.relu(self.conv1_1(x))\n",
    "        x = F.max_pool2d(F.relu(self.conv1_2(x)), 2, 2)\n",
    "        x = F.relu(self.conv2_1(x))\n",
    "        x = F.max_pool2d(F.relu(self.conv2_2(x)), 2, 2)\n",
    "        x = F.max_pool2d(F.relu(self.conv3(x)), 2, 2)\n",
    "        x = F.max_pool2d(F.relu(self.conv4(x)), 2, 2)\n",
    "        x = x.view(-1, 8*8*256)\n",
    "        x = F.relu(self.fc1(x))\n",
    "        x = F.relu(self.fc2(x))\n",
    "        x = self.fc3(x)\n",
    "        return F.log_softmax(x, dim = 1)"
   ]
  },
  {
   "cell_type": "code",
   "execution_count": 48,
   "metadata": {},
   "outputs": [],
   "source": [
    "class ConvNet_L9Plus(nn.Module):\n",
    "    def __init__(self):\n",
    "        super(ConvNet_L9Plus, self).__init__()\n",
    "        self.all_losses = []\n",
    "        self.all_accuracy = []\n",
    "        self.conv1 = nn.Conv2d(1, 32, 3, 1, 1) \n",
    "        self.conv2 = nn.Conv2d(32, 64, 3, 1, 1)\n",
    "        self.conv3_1 = nn.Conv2d(64, 128, 3, 1, 1)\n",
    "        self.conv3_2 = nn.Conv2d(128, 128, 3, 1, 1)\n",
    "        self.conv4_1 = nn.Conv2d(128, 256, 3, 1, 1)\n",
    "        self.conv4_2 = nn.Conv2d(256, 256, 3, 1, 1)\n",
    "        self.fc1 = nn.Linear(8*8*256,4000)\n",
    "        self.fc2 = nn.Linear(4000,1024)\n",
    "        self.fc3 = nn.Linear(1024, 100)\n",
    "\n",
    "    def forward(self, x):\n",
    "        x = x.view(-1,1,128,128)\n",
    "        x = F.max_pool2d(F.relu(self.conv1(x)), 2, 2)\n",
    "        x = F.max_pool2d(F.relu(self.conv2(x)), 2, 2)\n",
    "        x = F.relu(self.conv3_1(x))\n",
    "        x = F.max_pool2d(F.relu(self.conv3_2(x)), 2, 2)\n",
    "        x = F.relu(self.conv4_1(x))\n",
    "        x = F.max_pool2d(F.relu(self.conv4_2(x)), 2, 2)\n",
    "        x = x.view(-1, 8*8*256)\n",
    "        x = F.relu(self.fc1(x))\n",
    "        x = F.relu(self.fc2(x))\n",
    "        x = self.fc3(x)\n",
    "        return F.log_softmax(x, dim = 1)"
   ]
  },
  {
   "cell_type": "code",
   "execution_count": 24,
   "metadata": {},
   "outputs": [],
   "source": [
    "class ConvNet_L11(nn.Module):\n",
    "    def __init__(self):\n",
    "        super(ConvNet_L11, self).__init__()\n",
    "        self.all_losses = []\n",
    "        self.all_accuracy = []\n",
    "        self.conv1_1 = nn.Conv2d(1, 32, 3, 1, 1) \n",
    "        self.conv1_2 = nn.Conv2d(32, 32, 3, 1, 1)\n",
    "        self.conv2_1 = nn.Conv2d(32, 64, 3, 1, 1)\n",
    "        self.conv2_2 = nn.Conv2d(64, 64, 3, 1, 1)\n",
    "        self.conv3_1 = nn.Conv2d(64, 128, 3, 1, 1)\n",
    "        self.conv3_2 = nn.Conv2d(128, 128, 3, 1, 1)\n",
    "        self.conv4_1 = nn.Conv2d(128, 256, 3, 1, 1)\n",
    "        self.conv4_2 = nn.Conv2d(256, 256, 3, 1, 1)\n",
    "        self.fc1 = nn.Linear(8*8*256,4000)\n",
    "        self.fc2 = nn.Linear(4000,1024)\n",
    "        self.fc3 = nn.Linear(1024, 100)\n",
    "\n",
    "    def forward(self, x):\n",
    "        x = x.view(-1,1,128,128)\n",
    "        x = F.relu(self.conv1_1(x))\n",
    "        x = F.max_pool2d(F.relu(self.conv1_2(x)), 2, 2)\n",
    "        x = F.relu(self.conv2_1(x))\n",
    "        x = F.max_pool2d(F.relu(self.conv2_2(x)), 2, 2)\n",
    "        x = F.relu(self.conv3_1(x))\n",
    "        x = F.max_pool2d(F.relu(self.conv3_2(x)), 2, 2)\n",
    "        x = F.relu(self.conv4_1(x))\n",
    "        x = F.max_pool2d(F.relu(self.conv4_2(x)), 2, 2)\n",
    "        x = x.view(-1, 8*8*256)\n",
    "        x = F.relu(self.fc1(x))\n",
    "        x = F.relu(self.fc2(x))\n",
    "        x = self.fc3(x)\n",
    "        return F.log_softmax(x, dim = 1)"
   ]
  },
  {
   "cell_type": "code",
   "execution_count": 25,
   "metadata": {},
   "outputs": [],
   "source": [
    "class ConvNet_L11Plus(nn.Module):\n",
    "    def __init__(self):\n",
    "        super(ConvNet_L11Plus, self).__init__()\n",
    "        self.all_losses = []\n",
    "        self.all_accuracy = []\n",
    "        self.conv1_1 = nn.Conv2d(1, 32, 3, 1, 1)\n",
    "        self.conv1_1_bn = nn.BatchNorm2d(32)\n",
    "        self.conv1_2 = nn.Conv2d(32, 32, 3, 1, 1)\n",
    "        self.conv1_2_bn = nn.BatchNorm2d(32)\n",
    "        self.conv2_1 = nn.Conv2d(32, 64, 3, 1, 1)\n",
    "        self.conv2_1_bn = nn.BatchNorm2d(64)\n",
    "        self.conv2_2 = nn.Conv2d(64, 64, 3, 1, 1)\n",
    "        self.conv2_2_bn = nn.BatchNorm2d(64)\n",
    "        self.conv3_1 = nn.Conv2d(64, 128, 3, 1, 1)\n",
    "        self.conv3_1_bn = nn.BatchNorm2d(128)\n",
    "        self.conv3_2 = nn.Conv2d(128, 128, 3, 1, 1)\n",
    "        self.conv3_2_bn = nn.BatchNorm2d(128)\n",
    "        self.conv4_1 = nn.Conv2d(128, 256, 3, 1, 1)\n",
    "        self.conv4_1_bn = nn.BatchNorm2d(256)\n",
    "        self.conv4_2 = nn.Conv2d(256, 256, 3, 1, 1)\n",
    "        self.conv4_2_bn = nn.BatchNorm2d(256)\n",
    "        self.fc1 = nn.Linear(8*8*256,4000)\n",
    "        self.fc2 = nn.Linear(4000,1024)\n",
    "        self.fc3 = nn.Linear(1024, 100)\n",
    "\n",
    "    def forward(self, x):\n",
    "        x = x.view(-1,1,128,128)\n",
    "        x = F.relu(self.conv1_1_bn(self.conv1_1(x)))\n",
    "        x = F.max_pool2d(F.relu(self.conv1_2_bn(self.conv1_2(x))), 2, 2)\n",
    "        x = F.relu(self.conv2_1_bn(self.conv2_1(x)))\n",
    "        x = F.max_pool2d(F.relu(self.conv2_2_bn(self.conv2_2(x))), 2, 2)\n",
    "        x = F.relu(self.conv3_1_bn(self.conv3_1(x)))\n",
    "        x = F.max_pool2d(F.relu(self.conv3_2_bn(self.conv3_2(x))), 2, 2)\n",
    "        x = F.relu(self.conv4_1_bn(self.conv4_1(x)))\n",
    "        x = F.max_pool2d(F.relu(self.conv4_2_bn(self.conv4_2(x))), 2, 2)\n",
    "        x = x.view(-1, 8*8*256)\n",
    "        x = F.relu(self.fc1(x))\n",
    "        x = F.relu(self.fc2(x))\n",
    "        x = self.fc3(x)\n",
    "        return F.log_softmax(x, dim = 1)"
   ]
  },
  {
   "cell_type": "code",
   "execution_count": 60,
   "metadata": {},
   "outputs": [],
   "source": [
    "class ConvNet_L13(nn.Module):\n",
    "    def __init__(self):\n",
    "        super(ConvNet_L13, self).__init__()\n",
    "        self.all_losses = []\n",
    "        self.all_accuracy = []\n",
    "        self.conv1_1 = nn.Conv2d(1, 32, 3, 1, 1) \n",
    "        self.conv1_2 = nn.Conv2d(32, 32, 3, 1, 1)\n",
    "        self.conv2_1 = nn.Conv2d(32, 64, 3, 1, 1)\n",
    "        self.conv2_2 = nn.Conv2d(64, 64, 3, 1, 1)\n",
    "        self.conv3_1 = nn.Conv2d(64, 128, 3, 1, 1)\n",
    "        self.conv3_2 = nn.Conv2d(128, 128, 3, 1, 1)\n",
    "        self.conv4_1 = nn.Conv2d(128, 256, 3, 1, 1)\n",
    "        self.conv4_2 = nn.Conv2d(256, 256, 3, 1, 1)\n",
    "        self.conv4_3 = nn.Conv2d(256, 256, 3, 1, 1)\n",
    "        self.conv4_4 = nn.Conv2d(256, 256, 3, 1, 1)\n",
    "        self.fc1 = nn.Linear(8*8*256,4000)\n",
    "        self.fc2 = nn.Linear(4000,1024)\n",
    "        self.fc3 = nn.Linear(1024, 100)\n",
    "\n",
    "    def forward(self, x):\n",
    "        x = x.view(-1,1,128,128)\n",
    "        x = F.relu(self.conv1_1(x))\n",
    "        x = F.max_pool2d(F.relu(self.conv1_2(x)), 2, 2)\n",
    "        x = F.relu(self.conv2_1(x))\n",
    "        x = F.max_pool2d(F.relu(self.conv2_2(x)), 2, 2)\n",
    "        x = F.relu(self.conv3_1(x))\n",
    "        x = F.max_pool2d(F.relu(self.conv3_2(x)), 2, 2)\n",
    "        x = F.relu(self.conv4_1(x))\n",
    "        x = F.relu(self.conv4_2(x))\n",
    "        x = F.relu(self.conv4_3(x))\n",
    "        x = F.max_pool2d(F.relu(self.conv4_4(x)), 2, 2)\n",
    "        x = x.view(-1, 8*8*256)\n",
    "        x = F.relu(self.fc1(x))\n",
    "        x = F.relu(self.fc2(x))\n",
    "        x = self.fc3(x)\n",
    "        return F.log_softmax(x, dim = 1)"
   ]
  },
  {
   "cell_type": "markdown",
   "metadata": {},
   "source": [
    "define a helper function that helps us calculate accuracy"
   ]
  },
  {
   "cell_type": "code",
   "execution_count": null,
   "metadata": {},
   "outputs": [],
   "source": [
    "def AccuracyHelper(model,dataset):\n",
    "    count = 0\n",
    "    for batch_idx, (data,target) in enumerate(dataset):\n",
    "        data, target = Variable(data.cuda()), Variable(target.cuda())\n",
    "        y_pred = model(data)#model\n",
    "        prediction = torch.max(F.softmax(y_pred), 1)[1]\n",
    "        pred_y = prediction.cpu().data.numpy().squeeze()\n",
    "        target_y = target.cpu().data.numpy()\n",
    "        count += sum(pred_y == target_y)\n",
    "    print('accuracy on testset: {}%'.format(100*float(count)/float(batch_size*len(dataset))),count)"
   ]
  },
  {
   "cell_type": "markdown",
   "metadata": {},
   "source": [
    "set training process with lr = 0.01, momentum = 0.9, epoch = 10 for every model training."
   ]
  },
  {
   "cell_type": "code",
   "execution_count": 27,
   "metadata": {},
   "outputs": [],
   "source": [
    "class Training():\n",
    "    def __init__(self,dataloaders,ConvNet,lr = 0.01, epoch = 10):\n",
    "        self.criteria = nn.CrossEntropyLoss()\n",
    "        self.model = ConvNet\n",
    "        self.optimizer = optim.SGD(ConvNet.parameters(), lr=lr, momentum=0.9)\n",
    "        self.log_interval=10#log_interval * batch_size = the number of displayed samples\n",
    "        self.epoch = epoch\n",
    "        self.data = dataloaders\n",
    "        self.ConvNet = ConvNet\n",
    "        \n",
    "    def start(self):\n",
    "        for epoch in range(self.epoch):#set epoch of iteration\n",
    "            for batch_idx, (data,target) in enumerate(self.data['train']):\n",
    "                data, target = Variable(data.cuda()), Variable(target.cuda())#turn x,y from tensors to Variables\n",
    "                y_pred = self.model(data)#feed x, return prediction on the sample\n",
    "                prediction = torch.max(F.softmax(y_pred), 1)[1]\n",
    "                pred_y = prediction.cpu().data.numpy().squeeze()\n",
    "                target_y = target.cpu().data.numpy()\n",
    "                loss = self.criteria(y_pred, target)#cal loss\n",
    "                self.optimizer.zero_grad()#set all gradient to 0\n",
    "                loss.backward()#begin backprop\n",
    "                self.optimizer.step()#cal grad\n",
    "                if batch_idx % self.log_interval == 0:#display progress\n",
    "                    accuracy = sum(pred_y == target_y) / 100.0\n",
    "                    self.ConvNet.all_losses.append(loss.data[0])\n",
    "                    self.ConvNet.all_accuracy.append(accuracy)\n",
    "                    print('Train Epoch: {} [{}/{} ({:.3f}%)]\\tLoss: {:.6f}\\tAccuracy: {:.3f}'.format(\n",
    "                        epoch, batch_size*batch_idx, batch_size*len(self.data['train']),\n",
    "                        100. * batch_idx / len(self.data['train']), loss.data[0], accuracy))\n",
    "        AccuracyHelper(self.model, data['test'])"
   ]
  },
  {
   "cell_type": "markdown",
   "metadata": {},
   "source": [
    "### Load in models. when you have tuned your model classes, don't forget to reload models here!!! (Don't ask me why I mention this...)"
   ]
  },
  {
   "cell_type": "code",
   "execution_count": 61,
   "metadata": {},
   "outputs": [],
   "source": [
    "model_l6  = ConvNet_L6()\n",
    "model_l6.cuda()\n",
    "model_l7  = ConvNet_L7()\n",
    "model_l7.cuda()\n",
    "model_l7p = ConvNet_L7Plus()\n",
    "model_l7p.cuda()\n",
    "model_l9  = ConvNet_L9()\n",
    "model_l9.cuda()\n",
    "model_l9p = ConvNet_L9Plus()\n",
    "model_l9p.cuda()\n",
    "model_l11 = ConvNet_L11()\n",
    "model_l11.cuda()\n",
    "model_l11p= ConvNet_L11Plus()\n",
    "model_l11p.cuda()\n",
    "model_l13 = ConvNet_L13()\n",
    "model_l13.cuda()"
   ]
  },
  {
   "cell_type": "code",
   "execution_count": null,
   "metadata": {},
   "outputs": [],
   "source": [
    "start_time = time.time()\n",
    "train = Training(dataloaders, model_l6, 0.01)\n",
    "train.start()\n",
    "print(\"--- %s seconds ---\" % (time.time() - start_time))"
   ]
  },
  {
   "cell_type": "code",
   "execution_count": null,
   "metadata": {},
   "outputs": [],
   "source": [
    "start_time = time.time()\n",
    "train = Training(dataloaders, model_l7, 0.01)\n",
    "train.start()\n",
    "print(\"--- %s seconds ---\" % (time.time() - start_time))"
   ]
  },
  {
   "cell_type": "code",
   "execution_count": null,
   "metadata": {},
   "outputs": [],
   "source": [
    "start_time = time.time()\n",
    "train = Training(dataloaders, model_l7p, 0.01)\n",
    "train.start()\n",
    "print(\"--- %s seconds ---\" % (time.time() - start_time))"
   ]
  },
  {
   "cell_type": "code",
   "execution_count": null,
   "metadata": {},
   "outputs": [],
   "source": [
    "start_time = time.time()\n",
    "train = Training(dataloaders, model_l9, 0.01)\n",
    "train.start()\n",
    "print(\"--- %s seconds ---\" % (time.time() - start_time))"
   ]
  },
  {
   "cell_type": "code",
   "execution_count": null,
   "metadata": {},
   "outputs": [],
   "source": [
    "start_time = time.time()\n",
    "train = Training(dataloaders, model_l9p, 0.01)\n",
    "train.start()\n",
    "print(\"--- %s seconds ---\" % (time.time() - start_time))"
   ]
  },
  {
   "cell_type": "code",
   "execution_count": null,
   "metadata": {},
   "outputs": [],
   "source": [
    "start_time = time.time()\n",
    "train = Training(dataloaders, model_l11, 0.01)\n",
    "train.start()\n",
    "print(\"--- %s seconds ---\" % (time.time() - start_time))"
   ]
  },
  {
   "cell_type": "code",
   "execution_count": null,
   "metadata": {},
   "outputs": [],
   "source": [
    "start_time = time.time()\n",
    "train = Training(dataloaders, model_l11p, 0.01)\n",
    "train.start()\n",
    "print(\"--- %s seconds ---\" % (time.time() - start_time))"
   ]
  },
  {
   "cell_type": "code",
   "execution_count": null,
   "metadata": {},
   "outputs": [],
   "source": [
    "start_time = time.time()\n",
    "train = Training(dataloaders, model_l13, 0.01)\n",
    "train.start()\n",
    "print(\"--- %s seconds ---\" % (time.time() - start_time))"
   ]
  },
  {
   "cell_type": "markdown",
   "metadata": {},
   "source": [
    "finished testing all models. We are ready to go!"
   ]
  },
  {
   "cell_type": "markdown",
   "metadata": {},
   "source": [
    "## visualize results"
   ]
  },
  {
   "cell_type": "markdown",
   "metadata": {},
   "source": [
    "plot losses"
   ]
  },
  {
   "cell_type": "code",
   "execution_count": 31,
   "metadata": {},
   "outputs": [
    {
     "data": {
      "image/png": "[encoded data removed]",
      "text/plain": [
       "<matplotlib.figure.Figure at 0x1bac75c10>"
      ]
     },
     "metadata": {},
     "output_type": "display_data"
    }
   ],
   "source": [
    "red_patch = mpatches.Patch(color='red', label='model_l6')\n",
    "blue_patch = mpatches.Patch(color='blue', label='model_l7')\n",
    "green_patch = mpatches.Patch(color='green', label='model_l7p')\n",
    "black_patch = mpatches.Patch(color='black', label='model_l9')\n",
    "khaki_patch = mpatches.Patch(color='khaki', label='model_l9p')\n",
    "silver_patch = mpatches.Patch(color='silver', label='model_l11')\n",
    "orange_patch = mpatches.Patch(color='orange', label='model_l11p')\n",
    "pink_patch = mpatches.Patch(color='pink', label='model_l13')\n",
    "\n",
    "\n",
    "plt.figure(figsize=(15, 15))\n",
    "plt.legend(handles=[red_patch,blue_patch,green_patch,black_patch,khaki_patch,silver_patch,orange_patch,pink_patch]\n",
    "           , loc = 'upper right')\n",
    "plt.title('Loss on Training Set')\n",
    "plt.plot(model_l6.all_losses, 'red')\n",
    "plt.plot(model_l7.all_losses, 'blue')\n",
    "plt.plot(model_l7p.all_losses, 'green')\n",
    "plt.plot(model_l9.all_losses, 'black')\n",
    "plt.plot(model_l9p.all_losses, 'khaki')\n",
    "plt.plot(model_l11.all_losses, 'silver')\n",
    "plt.plot(model_l11p.all_losses, 'orange')\n",
    "plt.plot(model_l13.all_losses, 'pink')\n",
    "\n",
    "plt.show()"
   ]
  },
  {
   "cell_type": "markdown",
   "metadata": {},
   "source": [
    "plot accuracy"
   ]
  },
  {
   "cell_type": "code",
   "execution_count": 32,
   "metadata": {},
   "outputs": [
    {
     "data": {
      "image/png": "[encoded data removed]",
      "text/plain": [
       "<matplotlib.figure.Figure at 0x1baca4610>"
      ]
     },
     "metadata": {},
     "output_type": "display_data"
    }
   ],
   "source": [
    "red_patch = mpatches.Patch(color='red', label='model_l6')\n",
    "blue_patch = mpatches.Patch(color='blue', label='model_l7')\n",
    "green_patch = mpatches.Patch(color='green', label='model_l7p')\n",
    "black_patch = mpatches.Patch(color='black', label='model_l9')\n",
    "khaki_patch = mpatches.Patch(color='khaki', label='model_l9p')\n",
    "silver_patch = mpatches.Patch(color='silver', label='model_l11')\n",
    "orange_patch = mpatches.Patch(color='orange', label='model_l11p')\n",
    "pink_patch = mpatches.Patch(color='pink', label='model_l13')\n",
    "\n",
    "\n",
    "plt.figure(figsize=(15, 15))\n",
    "plt.legend(handles=[red_patch,blue_patch,green_patch,black_patch,khaki_patch,silver_patch,orange_patch,pink_patch]\n",
    "           , loc = 'upper right')\n",
    "plt.title('Accuracy on Training Set')\n",
    "plt.plot(model_l6.all_accuracy, 'red')\n",
    "plt.plot(model_l7.all_accuracy, 'blue')\n",
    "plt.plot(model_l7p.all_accuracy, 'green')\n",
    "plt.plot(model_l9.all_accuracy, 'black')\n",
    "plt.plot(model_l9p.all_accuracy, 'khaki')\n",
    "plt.plot(model_l11.all_accuracy, 'silver')\n",
    "plt.plot(model_l11p.all_accuracy, 'orange')\n",
    "plt.plot(model_l13.all_accuracy, 'pink')\n",
    "\n",
    "plt.show()"
   ]
  },
  {
   "cell_type": "code",
   "execution_count": null,
   "metadata": {},
   "outputs": [],
   "source": []
  }
 ],
 "metadata": {
  "kernelspec": {
   "display_name": "Python 2",
   "language": "python",
   "name": "python2"
  },
  "language_info": {
   "codemirror_mode": {
    "name": "ipython",
    "version": 2
   },
   "file_extension": ".py",
   "mimetype": "text/x-python",
   "name": "python",
   "nbconvert_exporter": "python",
   "pygments_lexer": "ipython2",
   "version": "2.7.13"
  }
 },
 "nbformat": 4,
 "nbformat_minor": 2
}
